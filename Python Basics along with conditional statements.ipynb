{
 "cells": [
  {
   "cell_type": "code",
   "execution_count": 1,
   "id": "347397af-06f3-4d56-b907-9e525ca911c7",
   "metadata": {},
   "outputs": [],
   "source": [
    "a=10"
   ]
  },
  {
   "cell_type": "code",
   "execution_count": 2,
   "id": "a7c056f6-d6d5-4b41-b7e2-e3124edf49d9",
   "metadata": {},
   "outputs": [
    {
     "data": {
      "text/plain": [
       "int"
      ]
     },
     "execution_count": 2,
     "metadata": {},
     "output_type": "execute_result"
    }
   ],
   "source": [
    "type(a)"
   ]
  },
  {
   "cell_type": "code",
   "execution_count": 4,
   "id": "2cbf608c-f014-4d57-9468-857233ad8a6c",
   "metadata": {},
   "outputs": [
    {
     "data": {
      "text/plain": [
       "'c'"
      ]
     },
     "execution_count": 4,
     "metadata": {},
     "output_type": "execute_result"
    }
   ],
   "source": [
    "\"c\""
   ]
  },
  {
   "cell_type": "code",
   "execution_count": 6,
   "id": "ae3dc71a-9966-49c8-946f-f95944d74b91",
   "metadata": {},
   "outputs": [
    {
     "data": {
      "text/plain": [
       "3"
      ]
     },
     "execution_count": 6,
     "metadata": {},
     "output_type": "execute_result"
    }
   ],
   "source": [
    "# Covert a float decimal type number to int, it's called type casting: Converting one type of data to another\n",
    "int(3.4)"
   ]
  },
  {
   "cell_type": "code",
   "execution_count": 10,
   "id": "3632a521-5ace-4df7-90a9-81fb11ae2813",
   "metadata": {},
   "outputs": [
    {
     "name": "stdout",
     "output_type": "stream",
     "text": [
      "10\n"
     ]
    }
   ],
   "source": [
    "#print statement:\n",
    "\n",
    "print(a)"
   ]
  },
  {
   "cell_type": "code",
   "execution_count": 8,
   "id": "e55ee653-a8be-451e-b9c7-b8a917f0b6c1",
   "metadata": {},
   "outputs": [
    {
     "name": "stdout",
     "output_type": "stream",
     "text": [
      "Hello World!\n"
     ]
    }
   ],
   "source": [
    "print(\"Hello World!\")"
   ]
  },
  {
   "cell_type": "code",
   "execution_count": 9,
   "id": "bbadf2b9-4f86-4f3a-80ea-9d46fe1d7c7e",
   "metadata": {},
   "outputs": [
    {
     "name": "stdout",
     "output_type": "stream",
     "text": [
      "123\n"
     ]
    }
   ],
   "source": [
    "print(123)"
   ]
  },
  {
   "cell_type": "code",
   "execution_count": 14,
   "id": "8bc4ae10-341f-499c-9a67-bb545d429e58",
   "metadata": {},
   "outputs": [
    {
     "name": "stdout",
     "output_type": "stream",
     "text": [
      "My age is : 32\n"
     ]
    }
   ],
   "source": [
    "age =32\n",
    "\n",
    "print(\"My age is :\" ,age)"
   ]
  },
  {
   "cell_type": "code",
   "execution_count": 20,
   "id": "7e114594-90bc-4162-b634-e13b9eca8272",
   "metadata": {},
   "outputs": [
    {
     "name": "stdout",
     "output_type": "stream",
     "text": [
      "My age is {age}\n",
      "My age is : 32\n"
     ]
    }
   ],
   "source": [
    "# We have to use f string, f at the starting after print statement to get the variable vaule:\n",
    "print('My age is {age}')\n",
    "\n",
    "#f string has to be used\n",
    "print(f'My age is : {age}')"
   ]
  },
  {
   "cell_type": "code",
   "execution_count": 27,
   "id": "bb5965ff-6dbb-4304-aa96-06bdc2858536",
   "metadata": {},
   "outputs": [
    {
     "name": "stdout",
     "output_type": "stream",
     "text": [
      "My name is {} and my age is {}.format(name, age)\n",
      "My name is Faijan and my age is 26\n"
     ]
    }
   ],
   "source": [
    "## format:\n",
    "\n",
    "name= 'Faijan'\n",
    "age = 26\n",
    "print(\"My name is {} and my age is {}.format(name, age)\")\n",
    "#taking everything as string therfore displaying format syntax as string value, \n",
    "# for this, we have to use format outside the \"\" but inside ()\n",
    "print(\"My name is {} and my age is {}\".format(name, age))"
   ]
  },
  {
   "cell_type": "code",
   "execution_count": 29,
   "id": "3eff6c50-400b-4a77-a3a8-7bbbda5dbed9",
   "metadata": {},
   "outputs": [
    {
     "name": "stdout",
     "output_type": "stream",
     "text": [
      "My name is 26 and my age is Faijan\n"
     ]
    }
   ],
   "source": [
    "# we have to provide the variables in proper sequence when we use format syntax:\n",
    "print(\"My name is {} and my age is {}\".format(age, name))"
   ]
  },
  {
   "cell_type": "code",
   "execution_count": 32,
   "id": "cfef2631-194a-47f1-b1b2-ad2a4801ca98",
   "metadata": {},
   "outputs": [
    {
     "name": "stdout",
     "output_type": "stream",
     "text": [
      "My name is Faijan and my age is 26\n"
     ]
    }
   ],
   "source": [
    "# Placeholder:\n",
    "# With placeholders,we can write the variables value irrespective of their order in the format bracket:\n",
    "print(\"My name is {firstname} and my age is {firstage}\".format(firstage = age, firstname = name))"
   ]
  },
  {
   "cell_type": "code",
   "execution_count": 36,
   "id": "1294b498-e0b5-451b-af82-5d9f586ec0b0",
   "metadata": {},
   "outputs": [
    {
     "name": "stdout",
     "output_type": "stream",
     "text": [
      "My age is 26 and I have completed my M.tech degree with the name MD FAIJAN RAJA\n",
      "My age is 26 and I have completed my M.tech degree with the name MD FAIJAN RAJA\n",
      "My age is 26 and I have completed my M.tech degree with the name MD FAIJAN RAJA\n"
     ]
    }
   ],
   "source": [
    "name = \"MD FAIJAN RAJA\"\n",
    "age = 26\n",
    "degree = \"M.tech\"\n",
    "\n",
    "# Use the variables and write a code for the below output:\n",
    "#  My age is 32 and I have completed my M.tech degree with the name MD FAIJAN RAJA\n",
    "\n",
    "print(f\"My age is {age} and I have completed my {degree} degree with the name {name}\")\n",
    "print(\"My age is {} and I have completed my {} degree with the name {}\". format(age, degree, name))\n",
    "print(\"My age is {firstage} and I have completed my {firstdegree} degree with the name {firstname}\".format(firstname= name, firstage= age, firstdegree= degree))"
   ]
  },
  {
   "cell_type": "markdown",
   "id": "d289b0a8-af88-4522-9b08-5ab7581727ca",
   "metadata": {},
   "source": [
    "# Control Flow:\n",
    "\n",
    "## Decison making statements:\n",
    "\n",
    "1. IF\n",
    "2. IF ELSE\n",
    "3. IF EIF ELSE \n",
    "4. NESTED IF\n",
    "5. Single Statement Suites"
   ]
  },
  {
   "cell_type": "markdown",
   "id": "1ae7d0c4-8e20-4645-a70c-dc752b1d6b4b",
   "metadata": {},
   "source": [
    "# IF statement:"
   ]
  },
  {
   "cell_type": "code",
   "execution_count": 38,
   "id": "fabb77c9-b331-4435-9830-bb6659b81c7e",
   "metadata": {},
   "outputs": [],
   "source": [
    "# Conditions\n",
    "\n",
    "# >=, <=, =="
   ]
  },
  {
   "cell_type": "code",
   "execution_count": 56,
   "id": "30bc44c4-c670-43ed-83e1-a4507f7578b2",
   "metadata": {},
   "outputs": [
    {
     "name": "stdin",
     "output_type": "stream",
     "text": [
      "Please enter your age 45\n"
     ]
    },
    {
     "name": "stdout",
     "output_type": "stream",
     "text": [
      "Eligible to vote\n"
     ]
    }
   ],
   "source": [
    "age = int(input(\"Please enter your age\"))\n",
    "if age>=18:\n",
    "    print(\"Eligible to vote\")\n",
    "else:\n",
    "    print(\"Not eligible to vote\")"
   ]
  },
  {
   "cell_type": "code",
   "execution_count": 66,
   "id": "2fe4818c-2f98-4b27-8884-1f8b4bc3a7b0",
   "metadata": {},
   "outputs": [],
   "source": [
    "# Task 1\n",
    "\n",
    "# Take a input of the age\n",
    "# Check whether the age>=18 and age<=45\n",
    "# Display a message you are young blood for in between, kid for lower than 18 and senior citizen for >45"
   ]
  },
  {
   "cell_type": "code",
   "execution_count": 65,
   "id": "f4529dec-9c3c-4aee-95ea-886c6bc05c99",
   "metadata": {},
   "outputs": [
    {
     "name": "stdin",
     "output_type": "stream",
     "text": [
      "Please enter your age 46\n"
     ]
    },
    {
     "name": "stdout",
     "output_type": "stream",
     "text": [
      "You are senior citizen\n"
     ]
    }
   ],
   "source": [
    "age = int(input(\"Please enter your age\"))\n",
    "\n",
    "if age<18:\n",
    "    print(\"You are a kid\")\n",
    "elif (age>=18) & (age<=45):\n",
    "    print(\"You are young blood\")\n",
    "elif age>45: \n",
    "    print(\"You are senior citizen\")"
   ]
  },
  {
   "cell_type": "code",
   "execution_count": 67,
   "id": "d235a5b6-d42b-4f5a-b77b-0b13f8243e44",
   "metadata": {},
   "outputs": [],
   "source": [
    "# Task 2:\n",
    "\n",
    "# You are in a mall, you will get 30% discount if the price of the product is >1000\n",
    "# and 20% discount if it is less than or equal to 1000\n",
    "# Please get the input from the user to get the price of the product and then predict the final price"
   ]
  },
  {
   "cell_type": "code",
   "execution_count": 73,
   "id": "5fdd1770-175a-4744-be5f-a3320a04f364",
   "metadata": {},
   "outputs": [
    {
     "name": "stdin",
     "output_type": "stream",
     "text": [
      "Please enter the price of the product 5000\n"
     ]
    },
    {
     "name": "stdout",
     "output_type": "stream",
     "text": [
      "The discounted price is 3500\n"
     ]
    }
   ],
   "source": [
    "cost = int(input(\"Please enter the price of the product\"))\n",
    "\n",
    "if cost<=1000:\n",
    "    d_price = 0.8 * cost\n",
    "    print(f\"The discounted price is {int(d_price)}\")\n",
    "elif cost>1000:\n",
    "    d_price = 0.7 * cost\n",
    "    print(f\"The discounted price is {int(d_price)}\")"
   ]
  },
  {
   "cell_type": "code",
   "execution_count": 1,
   "id": "6e946ac8-05b4-4c7a-bc58-60799f03fa40",
   "metadata": {},
   "outputs": [
    {
     "data": {
      "text/plain": [
       "True"
      ]
     },
     "execution_count": 1,
     "metadata": {},
     "output_type": "execute_result"
    }
   ],
   "source": [
    "# Comparision operator:\n",
    "\n",
    "True == True"
   ]
  },
  {
   "cell_type": "markdown",
   "id": "01a304a8-4045-4a82-949d-0905eb9f63f6",
   "metadata": {},
   "source": [
    "# SINGLE STATEMENT SUITES:"
   ]
  },
  {
   "cell_type": "code",
   "execution_count": 6,
   "id": "54be32b0-1c4a-4c96-b3e3-2298dfcbadda",
   "metadata": {},
   "outputs": [
    {
     "name": "stdin",
     "output_type": "stream",
     "text": [
      "Enter a integer number 998\n"
     ]
    },
    {
     "name": "stdout",
     "output_type": "stream",
     "text": [
      "The value is less than 999\n"
     ]
    }
   ],
   "source": [
    "val = int(input(\"Enter a integer number\"))\n",
    "if(val>=999):print(\"The value is greater than or equal to 999\")\n",
    "else:print(\"The value is less than 999\")"
   ]
  },
  {
   "cell_type": "code",
   "execution_count": null,
   "id": "32d4349d-18fe-4ca4-9ef6-361719a21d41",
   "metadata": {},
   "outputs": [],
   "source": []
  },
  {
   "cell_type": "code",
   "execution_count": null,
   "id": "32111f12-0d33-4d52-83c1-7e442b307bcd",
   "metadata": {},
   "outputs": [],
   "source": []
  }
 ],
 "metadata": {
  "kernelspec": {
   "display_name": "Python 3 (ipykernel)",
   "language": "python",
   "name": "python3"
  },
  "language_info": {
   "codemirror_mode": {
    "name": "ipython",
    "version": 3
   },
   "file_extension": ".py",
   "mimetype": "text/x-python",
   "name": "python",
   "nbconvert_exporter": "python",
   "pygments_lexer": "ipython3",
   "version": "3.10.8"
  }
 },
 "nbformat": 4,
 "nbformat_minor": 5
}
